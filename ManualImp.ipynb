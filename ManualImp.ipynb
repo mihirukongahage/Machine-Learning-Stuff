{
  "nbformat": 4,
  "nbformat_minor": 0,
  "metadata": {
    "colab": {
      "name": "ManualImp.ipynb",
      "provenance": [],
      "include_colab_link": true
    },
    "kernelspec": {
      "name": "python3",
      "display_name": "Python 3"
    }
  },
  "cells": [
    {
      "cell_type": "markdown",
      "metadata": {
        "id": "view-in-github",
        "colab_type": "text"
      },
      "source": [
        "<a href=\"https://colab.research.google.com/github/mihirukongahage/Machine-Learning-Stuff/blob/master/ManualImp.ipynb\" target=\"_parent\"><img src=\"https://colab.research.google.com/assets/colab-badge.svg\" alt=\"Open In Colab\"/></a>"
      ]
    },
    {
      "cell_type": "code",
      "metadata": {
        "id": "DpvzG2TqT3C3",
        "colab_type": "code",
        "colab": {}
      },
      "source": [
        "import matplotlib.pyplot as plt\n",
        "%matplotlib inline\n",
        "import numpy as np\n",
        "import math"
      ],
      "execution_count": 0,
      "outputs": []
    },
    {
      "cell_type": "code",
      "metadata": {
        "id": "m8UM3ipKUZ33",
        "colab_type": "code",
        "colab": {}
      },
      "source": [
        "def sigmoid(z):\n",
        "  return 1/(1+np.exp(-z))"
      ],
      "execution_count": 0,
      "outputs": []
    },
    {
      "cell_type": "code",
      "metadata": {
        "id": "COVLn1lqVhHY",
        "colab_type": "code",
        "colab": {}
      },
      "source": [
        "def tanh(z):\n",
        "  return (np.exp(2*z)-1)/(np.exp(2*z)+1)"
      ],
      "execution_count": 0,
      "outputs": []
    },
    {
      "cell_type": "code",
      "metadata": {
        "id": "jhNLQ4WUXNxO",
        "colab_type": "code",
        "colab": {}
      },
      "source": [
        "def relu(z):\n",
        "  if(z >= 0): return z\n",
        "  else: return 0"
      ],
      "execution_count": 0,
      "outputs": []
    },
    {
      "cell_type": "code",
      "metadata": {
        "id": "E9bI8UYwUivH",
        "colab_type": "code",
        "colab": {}
      },
      "source": [
        "sample_z = np.linspace(-10,10,100)\n",
        "sample_a = tanh(sample_z)"
      ],
      "execution_count": 0,
      "outputs": []
    },
    {
      "cell_type": "code",
      "metadata": {
        "id": "zR-ebX7XVCSv",
        "colab_type": "code",
        "colab": {
          "base_uri": "https://localhost:8080/",
          "height": 286
        },
        "outputId": "21a0d333-adee-42bf-99c5-b6339b225b9d"
      },
      "source": [
        "plt.plot(sample_z,sample_a)"
      ],
      "execution_count": 78,
      "outputs": [
        {
          "output_type": "execute_result",
          "data": {
            "text/plain": [
              "[<matplotlib.lines.Line2D at 0x7fed21871320>]"
            ]
          },
          "metadata": {
            "tags": []
          },
          "execution_count": 78
        },
        {
          "output_type": "display_data",
          "data": {
            "image/png": "[encoded data removed]",
            "text/plain": [
              "<Figure size 432x288 with 1 Axes>"
            ]
          },
          "metadata": {
            "tags": []
          }
        }
      ]
    },
    {
      "cell_type": "code",
      "metadata": {
        "id": "ZvF91K6xoxuY",
        "colab_type": "code",
        "colab": {}
      },
      "source": [
        "class Sigmoid():\n",
        "  def __init__(self,z):\n",
        "    super().__init__([z])\n",
        "    def compute(self,z_val):\n",
        "      return 1/(1+np.exp(-z_val))"
      ],
      "execution_count": 0,
      "outputs": []
    },
    {
      "cell_type": "code",
      "metadata": {
        "id": "3Ih-P5q8Zqgf",
        "colab_type": "code",
        "colab": {}
      },
      "source": [
        "from sklearn.datasets import make_blobs"
      ],
      "execution_count": 0,
      "outputs": []
    },
    {
      "cell_type": "code",
      "metadata": {
        "id": "sYUiztAfZxXm",
        "colab_type": "code",
        "colab": {}
      },
      "source": [
        "data = make_blobs(n_samples=500,n_features=2,centers=2, random_state=75)"
      ],
      "execution_count": 0,
      "outputs": []
    },
    {
      "cell_type": "code",
      "metadata": {
        "id": "tnX-jESMaFYc",
        "colab_type": "code",
        "colab": {
          "base_uri": "https://localhost:8080/",
          "height": 1000
        },
        "outputId": "d281048d-199b-42ba-f328-9312dcf6c798"
      },
      "source": [
        "data"
      ],
      "execution_count": 61,
      "outputs": [
        {
          "output_type": "execute_result",
          "data": {
            "text/plain": [
              "(array([[ 2.49867382e+00, -8.10251954e+00],\n",
              "        [ 8.46153884e+00,  9.81116770e+00],\n",
              "        [ 7.81955180e+00,  1.03194554e+01],\n",
              "        [ 2.51083784e-01, -7.86596057e+00],\n",
              "        [ 7.65729700e+00,  9.04605041e+00],\n",
              "        [-1.04198438e-02, -7.49682138e+00],\n",
              "        [ 6.98799433e+00,  8.69119778e+00],\n",
              "        [ 7.51522587e+00,  8.66751818e+00],\n",
              "        [ 3.32150832e+00, -8.64997199e+00],\n",
              "        [ 7.91144518e-01, -9.86368921e+00],\n",
              "        [ 8.20524972e+00,  9.50853469e+00],\n",
              "        [ 8.46125327e-01, -1.01622639e+01],\n",
              "        [ 1.39708520e+00, -7.25918415e+00],\n",
              "        [ 1.44672867e+00, -9.00834491e+00],\n",
              "        [ 1.32448497e+00, -8.19084452e+00],\n",
              "        [ 8.12261219e+00,  9.14939071e+00],\n",
              "        [ 9.65542831e+00,  7.22968788e+00],\n",
              "        [ 1.44910208e+00, -7.92074969e+00],\n",
              "        [ 7.83296199e+00,  8.47558290e+00],\n",
              "        [ 7.21378373e+00,  8.54108081e+00],\n",
              "        [ 3.59863117e+00, -7.40801778e+00],\n",
              "        [ 9.38775588e+00,  8.84780198e+00],\n",
              "        [ 1.52193163e+00, -9.88785293e+00],\n",
              "        [ 7.13895651e+00,  5.63663439e+00],\n",
              "        [ 6.89994341e+00,  8.43440248e+00],\n",
              "        [ 3.58515224e-01, -9.10318688e+00],\n",
              "        [ 8.24102706e-01, -1.02285428e+01],\n",
              "        [ 1.59272987e+00, -8.46509690e+00],\n",
              "        [ 6.56910958e-01, -1.00456866e+01],\n",
              "        [ 1.12359793e+00, -9.81736745e+00],\n",
              "        [ 1.62023163e+00, -7.38601880e+00],\n",
              "        [ 8.97775739e+00,  9.68269155e+00],\n",
              "        [ 1.78321598e+00, -9.31700795e+00],\n",
              "        [ 7.86159304e+00,  1.03323200e+01],\n",
              "        [ 1.86156801e+00, -9.42715894e+00],\n",
              "        [ 7.97302666e+00,  7.88772908e+00],\n",
              "        [ 6.50253619e+00,  7.72968177e+00],\n",
              "        [-5.16964537e-01, -9.10698017e+00],\n",
              "        [ 6.22893839e+00,  8.80061022e+00],\n",
              "        [ 7.87976488e+00,  9.68386639e+00],\n",
              "        [ 1.00102859e+00, -9.54867510e+00],\n",
              "        [ 7.12700329e+00,  8.38407133e+00],\n",
              "        [ 1.77699960e+00, -1.04399715e+01],\n",
              "        [ 7.75479051e+00,  7.92573417e+00],\n",
              "        [ 1.34192945e+00, -8.88976445e+00],\n",
              "        [ 1.04445127e+00, -8.63891060e+00],\n",
              "        [ 2.65854265e-01, -8.56308827e+00],\n",
              "        [ 7.45569199e+00,  8.66047582e+00],\n",
              "        [ 1.39083209e+00, -6.74852323e+00],\n",
              "        [ 1.59173663e+00, -8.86699533e+00],\n",
              "        [ 6.12820022e-01, -8.72238237e+00],\n",
              "        [ 7.06465890e+00,  6.67679002e+00],\n",
              "        [ 9.82244229e-01, -8.97460538e+00],\n",
              "        [ 7.02833334e+00,  7.45366702e+00],\n",
              "        [ 9.22791268e-01, -8.10614566e+00],\n",
              "        [ 8.99177066e+00,  7.67841038e+00],\n",
              "        [ 7.36350724e+00,  8.88164102e+00],\n",
              "        [ 7.96314235e+00,  8.93956841e+00],\n",
              "        [ 7.49340078e+00,  9.58138801e+00],\n",
              "        [ 7.16263133e+00,  7.43226644e+00],\n",
              "        [-1.20046211e+00, -9.55928542e+00],\n",
              "        [ 6.01460405e+00,  9.32505142e+00],\n",
              "        [-7.46247051e-01, -8.54010739e+00],\n",
              "        [ 8.15136795e+00,  8.47667951e+00],\n",
              "        [ 1.97407802e+00, -8.76402029e+00],\n",
              "        [ 2.23335043e+00, -7.90417494e+00],\n",
              "        [ 1.04427390e+00, -9.18852215e+00],\n",
              "        [ 1.50345962e+00, -9.12287990e+00],\n",
              "        [ 2.97184114e+00, -8.67386895e+00],\n",
              "        [ 2.10916195e+00, -7.77390041e+00],\n",
              "        [ 8.20484783e+00,  8.43114984e+00],\n",
              "        [ 6.51184838e+00,  7.53834738e+00],\n",
              "        [ 1.86274922e+00, -7.61675999e+00],\n",
              "        [ 7.31881762e+00,  8.87603225e+00],\n",
              "        [ 9.53389180e+00,  8.28947048e+00],\n",
              "        [ 8.54128310e+00,  8.19014861e+00],\n",
              "        [ 8.89498310e+00,  7.88178761e+00],\n",
              "        [ 7.41085224e+00,  9.29729056e+00],\n",
              "        [-6.33582023e-03, -6.25163229e+00],\n",
              "        [ 7.59908503e+00,  9.76836462e+00],\n",
              "        [-2.43663215e-01, -8.92359119e+00],\n",
              "        [ 7.72736515e-01, -8.07619986e+00],\n",
              "        [ 7.75986813e+00,  7.73502780e+00],\n",
              "        [ 2.29328236e+00, -1.15424881e+01],\n",
              "        [ 1.46695415e+00, -9.28721999e+00],\n",
              "        [ 1.68476856e+00, -9.52950895e+00],\n",
              "        [-9.84488343e-01, -8.63817601e+00],\n",
              "        [ 7.67563989e+00,  7.07750728e+00],\n",
              "        [ 2.57154193e+00, -9.34319129e+00],\n",
              "        [ 7.54776700e+00,  8.52749993e+00],\n",
              "        [ 9.76548533e-01, -8.97062691e+00],\n",
              "        [ 7.42300513e+00,  8.75624350e+00],\n",
              "        [ 2.11636548e+00, -7.32099088e+00],\n",
              "        [ 7.97153178e+00,  8.31736154e+00],\n",
              "        [ 9.56869106e-01, -7.91238745e+00],\n",
              "        [ 1.70530391e+00, -7.28244859e+00],\n",
              "        [ 6.23516508e+00,  7.65707626e+00],\n",
              "        [ 7.67622735e+00,  7.62826384e+00],\n",
              "        [ 7.97799953e+00,  9.16811176e+00],\n",
              "        [ 2.06176551e+00, -9.75097097e+00],\n",
              "        [ 8.93716256e-01, -8.64166458e+00],\n",
              "        [ 6.79595733e+00,  9.73690325e+00],\n",
              "        [ 2.01646008e+00, -8.62125061e+00],\n",
              "        [ 8.22754160e+00,  6.98476609e+00],\n",
              "        [ 7.66621563e+00,  9.50073886e+00],\n",
              "        [ 7.93428422e+00,  7.81955916e+00],\n",
              "        [ 8.38475940e-01, -1.03144782e+01],\n",
              "        [ 9.77662987e-01, -8.22786255e+00],\n",
              "        [ 5.22206821e-01, -8.03894057e+00],\n",
              "        [ 8.30943268e+00,  9.30479296e+00],\n",
              "        [ 9.57625985e+00,  9.31383596e+00],\n",
              "        [ 1.07626714e+01,  8.49177905e+00],\n",
              "        [ 1.17276873e+00, -7.41693079e+00],\n",
              "        [ 7.06908192e+00,  9.89159115e+00],\n",
              "        [ 9.00881680e+00,  9.62677170e+00],\n",
              "        [ 1.55366099e+00, -9.96851061e+00],\n",
              "        [ 1.14907548e+00, -1.02073639e+01],\n",
              "        [ 6.94052220e+00,  8.23472291e+00],\n",
              "        [ 1.34161076e+00, -7.11755159e+00],\n",
              "        [ 2.51507489e+00, -6.97743137e+00],\n",
              "        [ 8.39258227e-01, -9.92233433e+00],\n",
              "        [ 8.20061854e+00,  7.01540083e+00],\n",
              "        [ 7.59719875e+00,  8.44081534e+00],\n",
              "        [ 8.37043608e+00,  9.67814878e+00],\n",
              "        [ 9.42716952e+00,  7.95701136e+00],\n",
              "        [ 2.32106705e+00, -6.46540191e+00],\n",
              "        [ 1.49644141e+00, -8.03941437e+00],\n",
              "        [ 1.46886948e-01, -6.61455393e+00],\n",
              "        [ 1.73492934e-01, -8.36657506e+00],\n",
              "        [ 5.00931693e+00,  1.00388990e+01],\n",
              "        [ 1.96322881e+00, -9.50169117e+00],\n",
              "        [ 1.82411900e+00, -8.86333716e+00],\n",
              "        [ 2.86878686e+00, -8.48121688e+00],\n",
              "        [ 5.79352612e-01, -7.42305923e+00],\n",
              "        [ 1.11822988e+00, -8.56976184e+00],\n",
              "        [ 2.09335725e+00, -7.66278316e+00],\n",
              "        [ 8.31832495e+00,  8.57708686e+00],\n",
              "        [ 6.35978106e-01, -8.34506845e+00],\n",
              "        [ 7.21706099e-01, -8.48425157e+00],\n",
              "        [ 1.92000795e+00, -7.50953708e+00],\n",
              "        [ 7.21688855e+00,  9.92489310e+00],\n",
              "        [ 1.98650739e+00, -7.31711238e+00],\n",
              "        [ 4.23651021e-01, -7.85159483e+00],\n",
              "        [ 8.00473514e+00,  7.25255718e+00],\n",
              "        [ 8.80809565e+00,  8.62848158e+00],\n",
              "        [ 5.46660211e-02, -9.41904481e+00],\n",
              "        [ 6.02827029e+00,  7.91498214e+00],\n",
              "        [ 8.21342210e+00,  9.27005311e+00],\n",
              "        [ 8.03972233e+00,  8.84285314e+00],\n",
              "        [ 8.94826431e-01, -7.21170249e+00],\n",
              "        [ 7.23774028e+00,  1.21605560e+01],\n",
              "        [ 7.48358278e+00,  8.14510479e+00],\n",
              "        [ 2.09054113e+00, -9.05518701e+00],\n",
              "        [ 1.87934168e+00, -7.96216794e+00],\n",
              "        [ 2.51108524e-02, -1.03217779e+01],\n",
              "        [ 2.58527115e+00, -8.96015539e+00],\n",
              "        [ 9.32163376e-01, -8.12982963e+00],\n",
              "        [ 7.16049135e+00,  8.22925042e+00],\n",
              "        [ 7.53983595e+00,  8.72575791e+00],\n",
              "        [ 2.41247647e+00, -9.99341197e+00],\n",
              "        [ 2.74991843e+00, -8.52481798e+00],\n",
              "        [ 7.16769056e+00,  6.96225576e+00],\n",
              "        [ 8.42749093e+00,  9.34857809e+00],\n",
              "        [ 1.05230660e+00, -9.17341973e+00],\n",
              "        [ 6.38746701e+00,  7.39278394e+00],\n",
              "        [ 1.98192322e+00, -8.88845443e+00],\n",
              "        [ 7.90976750e-01, -9.98011652e+00],\n",
              "        [ 1.42300008e+00, -9.46207687e+00],\n",
              "        [ 7.24108899e+00,  8.10115713e+00],\n",
              "        [ 5.59216939e+00,  7.37171827e+00],\n",
              "        [ 1.30604214e+00, -8.25681177e+00],\n",
              "        [ 2.72532584e+00, -7.51956557e+00],\n",
              "        [ 1.64967000e+00, -8.12469672e+00],\n",
              "        [ 1.19923376e+00, -8.57015461e+00],\n",
              "        [ 7.33159483e+00,  9.00591634e+00],\n",
              "        [ 1.77126419e+00, -9.39898265e+00],\n",
              "        [ 1.48541862e+00, -7.59729201e+00],\n",
              "        [ 8.71792925e+00,  8.32943034e+00],\n",
              "        [ 7.30821060e+00,  6.70545708e+00],\n",
              "        [ 8.11029665e+00,  6.42598397e+00],\n",
              "        [ 1.37773072e+00, -9.45892032e+00],\n",
              "        [ 6.77623197e+00,  8.80431406e+00],\n",
              "        [ 8.90371692e+00,  8.38279340e+00],\n",
              "        [ 9.89462088e+00,  7.43869635e+00],\n",
              "        [ 9.06043869e+00,  1.03652179e+01],\n",
              "        [ 8.55612974e+00,  9.19400867e+00],\n",
              "        [ 1.71761754e+00, -8.51574117e+00],\n",
              "        [ 8.10882134e+00,  9.79937033e+00],\n",
              "        [ 7.78762457e+00,  7.17757046e+00],\n",
              "        [ 7.16905295e+00,  8.28350707e+00],\n",
              "        [ 8.35713718e+00,  7.49893947e+00],\n",
              "        [ 9.15104693e+00,  9.03491429e+00],\n",
              "        [ 1.32160390e+00, -8.42083799e+00],\n",
              "        [ 1.99243535e+00, -8.85885722e+00],\n",
              "        [ 2.22073712e+00, -8.81215942e+00],\n",
              "        [ 6.77972066e+00,  7.41310123e+00],\n",
              "        [ 6.88696648e+00,  5.89503559e+00],\n",
              "        [ 7.19155937e+00,  7.68109873e+00],\n",
              "        [ 2.17575029e+00, -1.12244276e+01],\n",
              "        [ 2.39242979e+00, -9.79248286e+00],\n",
              "        [ 2.15428070e+00, -8.35573421e+00],\n",
              "        [ 6.08119073e+00,  7.96058253e+00],\n",
              "        [ 1.23250250e-02, -9.37464412e+00],\n",
              "        [ 8.80766165e+00,  7.15934378e+00],\n",
              "        [ 5.18078640e-01, -8.85676341e+00],\n",
              "        [ 2.20987112e+00, -8.33528844e+00],\n",
              "        [ 2.03043270e+00, -7.94866739e+00],\n",
              "        [ 6.55827683e-01, -9.59208780e+00],\n",
              "        [ 6.19547354e+00,  8.00255416e+00],\n",
              "        [ 3.94043664e+00, -9.87432663e+00],\n",
              "        [ 8.34803311e+00,  9.87277357e+00],\n",
              "        [-7.32671545e-02, -1.16999964e+01],\n",
              "        [ 8.94074919e-01, -9.56584094e+00],\n",
              "        [ 8.32618972e+00,  7.21542306e+00],\n",
              "        [ 8.09198804e+00,  9.54442301e+00],\n",
              "        [ 9.60152492e-01, -1.00218151e+01],\n",
              "        [ 8.44522702e+00,  9.19411207e+00],\n",
              "        [ 7.78733202e-01, -7.99415757e+00],\n",
              "        [ 1.10426506e+00, -9.88574893e+00],\n",
              "        [ 6.92827347e+00,  9.48869216e+00],\n",
              "        [ 7.89894965e-01, -1.05269428e+01],\n",
              "        [-2.66966481e-01, -8.00678506e+00],\n",
              "        [ 9.51684804e+00,  9.65790267e+00],\n",
              "        [ 2.22264912e+00, -9.96551691e+00],\n",
              "        [ 9.91969317e+00,  6.75627813e+00],\n",
              "        [ 8.92672220e+00,  7.84069528e+00],\n",
              "        [ 2.05930409e+00, -7.24675596e+00],\n",
              "        [ 7.18923334e+00,  9.93097758e+00],\n",
              "        [ 6.41106806e+00,  1.02773051e+01],\n",
              "        [ 7.70370128e+00,  8.61755254e+00],\n",
              "        [ 6.51662176e+00,  8.16240917e+00],\n",
              "        [ 7.49833078e+00,  8.57627941e+00],\n",
              "        [ 6.76813324e+00,  9.31680829e+00],\n",
              "        [ 7.47396724e+00,  8.92917139e+00],\n",
              "        [ 8.24239478e+00,  9.77999196e+00],\n",
              "        [ 3.77868701e-01, -8.02819937e+00],\n",
              "        [ 7.99221848e+00,  9.83951128e+00],\n",
              "        [ 2.62179908e+00, -8.59991605e+00],\n",
              "        [ 2.72364028e+00, -8.24665779e+00],\n",
              "        [ 3.80863079e-01, -7.93493776e+00],\n",
              "        [ 1.49029546e+00, -9.33606512e+00],\n",
              "        [ 2.55482820e+00, -7.27695581e+00],\n",
              "        [ 2.92896853e+00, -7.03511959e+00],\n",
              "        [ 1.79694354e+00, -9.91168835e+00],\n",
              "        [ 1.41804346e+00, -8.10517372e+00],\n",
              "        [ 1.46816535e+00, -8.25928366e+00],\n",
              "        [ 2.20970520e+00, -8.04498475e+00],\n",
              "        [ 1.23053506e+00, -7.98873571e+00],\n",
              "        [ 1.01266011e+00, -6.83196804e+00],\n",
              "        [ 2.31737090e+00, -8.51516751e+00],\n",
              "        [ 3.50421381e+00, -7.90355522e+00],\n",
              "        [ 9.99307228e-01, -7.80696559e+00],\n",
              "        [ 2.95645261e+00, -9.76696135e+00],\n",
              "        [ 8.14959239e+00,  8.72851715e+00],\n",
              "        [ 9.96059552e+00,  9.12158042e+00],\n",
              "        [ 1.82921897e+00, -9.86956281e+00],\n",
              "        [ 1.20244767e+00, -8.37526528e+00],\n",
              "        [ 9.53974381e-01, -8.16014759e+00],\n",
              "        [ 8.19181458e+00,  7.56043533e+00],\n",
              "        [ 9.77720140e+00,  6.81884389e+00],\n",
              "        [ 7.57008816e+00,  9.29716578e+00],\n",
              "        [ 7.46657239e+00,  7.59379743e+00],\n",
              "        [ 8.13311050e+00,  7.49264003e+00],\n",
              "        [ 1.47364912e+00, -9.23417423e+00],\n",
              "        [ 6.10565075e-02, -9.20860667e+00],\n",
              "        [ 1.00832925e-01, -9.53134390e+00],\n",
              "        [ 2.88603902e+00, -8.85261704e+00],\n",
              "        [ 6.98094484e+00,  1.20209592e+01],\n",
              "        [ 6.22954720e+00,  8.88435643e+00],\n",
              "        [ 7.83414942e+00,  6.92362385e+00],\n",
              "        [ 7.46104367e+00,  7.29422244e+00],\n",
              "        [ 7.62600256e+00,  9.55089916e+00],\n",
              "        [ 2.00894462e+00, -8.03582744e+00],\n",
              "        [ 8.21835625e+00,  7.83567216e+00],\n",
              "        [ 7.88510061e+00,  6.95765989e+00],\n",
              "        [ 7.38067328e+00,  1.07308352e+01],\n",
              "        [ 8.94678094e-01, -1.01218601e+01],\n",
              "        [ 1.73236141e+00, -9.08631336e+00],\n",
              "        [ 1.19973207e+00, -9.70026770e+00],\n",
              "        [ 7.67948443e+00,  8.51787448e+00],\n",
              "        [ 7.19294953e+00,  7.68036554e+00],\n",
              "        [ 7.15579916e+00,  8.58448805e+00],\n",
              "        [ 8.00180480e-01, -7.28163391e+00],\n",
              "        [ 6.93384616e+00,  9.44972620e+00],\n",
              "        [ 2.62672215e+00, -8.94905166e+00],\n",
              "        [ 1.37919408e+00, -9.82465878e+00],\n",
              "        [ 9.23887487e+00,  8.65607132e+00],\n",
              "        [ 7.77029389e+00,  9.96667403e+00],\n",
              "        [ 9.82803842e-01, -7.55310460e+00],\n",
              "        [ 7.67616121e+00,  8.86056346e+00],\n",
              "        [ 1.35358688e+00, -8.17852411e+00],\n",
              "        [ 6.64563882e+00,  8.75377855e+00],\n",
              "        [ 2.91229417e+00, -8.23376251e+00],\n",
              "        [ 1.86653782e+00, -9.63934141e+00],\n",
              "        [ 5.66142604e-01, -9.39375835e+00],\n",
              "        [ 6.76214399e+00,  7.73733982e+00],\n",
              "        [-3.91998855e-01, -1.00750723e+01],\n",
              "        [ 1.05865542e+00, -8.43841416e+00],\n",
              "        [ 6.63534193e+00,  1.00999134e+01],\n",
              "        [ 3.42929482e+00, -7.80419369e+00],\n",
              "        [ 1.23714983e+00, -9.23407852e+00],\n",
              "        [ 7.86228497e+00,  6.95125689e+00],\n",
              "        [-4.85315583e-01, -9.49405346e+00],\n",
              "        [ 2.06751573e+00, -7.65623267e+00],\n",
              "        [ 1.57331185e+00, -8.99381655e+00],\n",
              "        [ 6.14636015e-01, -9.51908883e+00],\n",
              "        [ 1.67516509e+00, -7.61907675e+00],\n",
              "        [ 2.51091908e+00, -8.03196366e+00],\n",
              "        [ 7.72572676e+00,  9.25478653e+00],\n",
              "        [ 7.51898074e+00,  9.69656124e+00],\n",
              "        [ 7.15411897e+00,  9.94508502e+00],\n",
              "        [ 2.91354883e+00, -8.64842643e+00],\n",
              "        [ 3.13114921e+00, -8.68494930e+00],\n",
              "        [ 6.44154633e-02, -9.04982817e+00],\n",
              "        [ 4.04956332e+00, -8.91696051e+00],\n",
              "        [ 6.93047410e+00,  8.87483553e+00],\n",
              "        [ 7.70489224e+00,  8.37138956e+00],\n",
              "        [ 2.89982589e-01, -8.12980242e+00],\n",
              "        [ 7.55087847e+00,  7.22453113e+00],\n",
              "        [ 8.12111039e+00,  9.20779533e+00],\n",
              "        [ 8.06212534e-01, -1.01242524e+01],\n",
              "        [ 3.04605603e+00, -7.50486114e+00],\n",
              "        [ 8.30832895e+00,  8.61434132e+00],\n",
              "        [ 6.28932502e-01, -5.71417418e+00],\n",
              "        [ 2.48891538e+00, -9.51064587e+00],\n",
              "        [ 7.25610953e+00,  9.47299185e+00],\n",
              "        [ 1.60653767e+00, -9.60133223e+00],\n",
              "        [ 5.58862648e+00,  8.11316960e+00],\n",
              "        [ 7.32331052e+00,  1.01375107e+01],\n",
              "        [ 1.61338449e+00, -8.50097072e+00],\n",
              "        [ 3.54315909e+00, -7.63656885e+00],\n",
              "        [ 7.37347462e+00,  8.69742353e+00],\n",
              "        [ 8.41941251e+00,  7.95683789e+00],\n",
              "        [ 1.61302695e+00, -8.04202812e+00],\n",
              "        [ 9.05837539e+00,  1.01740113e+01],\n",
              "        [ 1.82801026e+00, -8.79003810e+00],\n",
              "        [ 6.89379808e+00,  9.00355956e+00],\n",
              "        [ 8.14014283e+00,  7.79852101e+00],\n",
              "        [ 7.27566468e+00,  8.39044177e+00],\n",
              "        [ 9.81371672e-01, -8.18721200e+00],\n",
              "        [ 5.53960684e+00,  8.16154449e+00],\n",
              "        [ 7.85813935e+00,  7.33854546e+00],\n",
              "        [ 1.08729943e+00, -8.26754440e+00],\n",
              "        [ 1.97236757e+00, -9.65903843e+00],\n",
              "        [-1.28535909e-01, -7.99520961e+00],\n",
              "        [ 7.02507862e+00,  9.01555232e+00],\n",
              "        [ 8.36713243e+00,  9.15296183e+00],\n",
              "        [ 6.48787063e+00,  9.19332056e+00],\n",
              "        [ 6.18145327e+00,  7.78714267e+00],\n",
              "        [ 9.12698786e+00,  7.40274317e+00],\n",
              "        [ 1.24140146e+00, -8.00983217e+00],\n",
              "        [ 8.01730863e+00,  9.24617448e+00],\n",
              "        [ 5.79324474e-01, -7.88789500e+00],\n",
              "        [ 7.47252834e+00,  9.02899646e+00],\n",
              "        [ 1.82608307e+00, -5.36968617e+00],\n",
              "        [ 2.78058415e+00, -9.10089660e+00],\n",
              "        [ 8.51054500e+00,  8.28480739e+00],\n",
              "        [ 4.20595454e-01, -1.06762914e+01],\n",
              "        [ 8.66999846e+00,  7.05813580e+00],\n",
              "        [ 7.91817371e+00,  8.87122159e+00],\n",
              "        [ 8.33547720e-01, -1.02925386e+01],\n",
              "        [ 6.34534113e+00,  9.70101838e+00],\n",
              "        [-1.30676191e-01, -8.79729627e+00],\n",
              "        [ 3.69010787e+00, -8.28511195e+00],\n",
              "        [ 2.10116853e+00, -7.68160620e+00],\n",
              "        [ 8.23353276e+00,  8.49610857e+00],\n",
              "        [ 7.59980744e+00,  6.90095902e+00],\n",
              "        [ 7.60459801e-01, -9.70111809e+00],\n",
              "        [ 7.62126753e+00,  8.10852342e+00],\n",
              "        [ 7.24125676e+00,  8.14287018e+00],\n",
              "        [ 2.29314809e-01, -1.11545332e+01],\n",
              "        [ 8.33570746e+00,  8.67184244e+00],\n",
              "        [ 8.75980298e+00,  9.14006429e+00],\n",
              "        [ 3.27031066e+00, -7.91978361e+00],\n",
              "        [ 1.57961049e+00, -8.17089971e+00],\n",
              "        [ 1.93525980e+00, -7.17127649e+00],\n",
              "        [ 1.02630517e+00, -8.19022184e+00],\n",
              "        [ 7.71975206e+00,  8.30693348e+00],\n",
              "        [ 1.69848503e+00, -7.94671897e+00],\n",
              "        [ 6.80104617e+00,  8.37725109e+00],\n",
              "        [ 2.28162471e+00, -7.49986239e+00],\n",
              "        [ 1.13453466e+00, -7.82489633e+00],\n",
              "        [ 1.81195548e+00, -7.89296047e+00],\n",
              "        [ 5.66074130e-01, -8.52139667e+00],\n",
              "        [ 8.51239399e+00,  9.21442839e+00],\n",
              "        [ 8.42255793e+00,  8.54787616e+00],\n",
              "        [ 4.74252242e-01, -9.34441654e+00],\n",
              "        [ 7.49717562e-01, -8.73428170e+00],\n",
              "        [ 9.29065043e+00,  8.97585938e+00],\n",
              "        [ 5.94041103e+00,  8.38560031e+00],\n",
              "        [ 1.06965742e+00, -8.16482510e+00],\n",
              "        [ 2.40014042e+00, -8.85759725e+00],\n",
              "        [ 6.89307964e+00,  7.93307446e+00],\n",
              "        [ 6.61156136e+00,  1.08233307e+01],\n",
              "        [ 8.65575556e-01, -8.41553795e+00],\n",
              "        [ 8.47730978e+00,  9.77694968e+00],\n",
              "        [ 6.65196955e+00,  7.11428585e+00],\n",
              "        [ 1.66566317e+00, -8.85975237e+00],\n",
              "        [ 1.04067863e+00, -8.10176065e+00],\n",
              "        [ 9.00741692e+00,  8.55858708e+00],\n",
              "        [ 7.76678496e+00,  8.34842623e+00],\n",
              "        [ 9.91633052e-01, -8.55284193e+00],\n",
              "        [ 2.78385111e+00, -8.12947259e+00],\n",
              "        [ 9.26807811e+00,  9.49842426e+00],\n",
              "        [ 8.44835002e+00,  8.77102449e+00],\n",
              "        [ 6.74598641e+00,  8.68346668e+00],\n",
              "        [ 8.42448765e+00,  8.23184606e+00],\n",
              "        [ 1.29805099e+00, -8.76145256e+00],\n",
              "        [ 1.02202838e+01,  1.01238354e+01],\n",
              "        [ 7.08162444e+00,  9.93910129e+00],\n",
              "        [ 2.72349299e+00, -5.88554903e+00],\n",
              "        [-6.21996213e-01, -6.69568356e+00],\n",
              "        [ 6.62655460e+00,  8.79760879e+00],\n",
              "        [ 1.85582689e+00, -6.74473432e+00],\n",
              "        [ 8.31556411e+00,  8.98979973e+00],\n",
              "        [ 1.21940684e+00, -1.02915929e+01],\n",
              "        [ 9.02060150e+00,  8.16651990e+00],\n",
              "        [ 7.74148270e+00,  8.34286596e+00],\n",
              "        [ 7.95803846e-01, -9.00301023e+00],\n",
              "        [ 7.63188407e+00,  8.42587631e+00],\n",
              "        [ 8.03177405e+00,  7.99807294e+00],\n",
              "        [ 8.20529215e+00,  1.04228355e+01],\n",
              "        [ 1.81294633e+00, -9.24932353e+00],\n",
              "        [ 1.90073973e+00, -7.24386675e+00],\n",
              "        [ 8.06770536e+00,  8.07980219e+00],\n",
              "        [ 6.77227527e+00,  9.67056983e+00],\n",
              "        [ 6.56454663e+00,  8.05936904e+00],\n",
              "        [ 7.48306128e+00,  8.34087613e+00],\n",
              "        [ 1.05324323e+00, -7.91254167e+00],\n",
              "        [ 7.49675062e+00,  8.82256751e+00],\n",
              "        [ 6.80884084e+00,  9.06646031e+00],\n",
              "        [ 2.33167971e+00, -8.23944186e+00],\n",
              "        [ 5.09103269e-01, -8.42173826e+00],\n",
              "        [ 7.64876650e+00,  8.37553133e+00],\n",
              "        [ 1.96356756e+00, -7.56601375e+00],\n",
              "        [ 7.82768317e+00,  1.08594415e+01],\n",
              "        [ 6.65287193e+00,  8.70737403e+00],\n",
              "        [ 8.18718433e-01, -7.30874433e+00],\n",
              "        [ 5.95687315e+00,  8.05979979e+00],\n",
              "        [ 1.23590353e+00, -8.02020815e+00],\n",
              "        [ 2.24583828e+00, -9.32063868e+00],\n",
              "        [ 7.48630542e+00,  7.47045925e+00],\n",
              "        [ 1.98906591e+00, -1.07573881e+01],\n",
              "        [ 1.32289422e+00, -6.48525553e+00],\n",
              "        [ 2.06877557e+00, -8.04412618e+00],\n",
              "        [ 7.57022821e+00,  8.26134720e+00],\n",
              "        [ 1.11256700e+00, -8.82842878e+00],\n",
              "        [ 4.01526696e-02, -8.94031487e+00],\n",
              "        [ 1.40704618e+00, -7.25623040e+00],\n",
              "        [ 8.29554882e+00,  8.75544819e+00],\n",
              "        [ 4.69346230e-01, -8.07461027e+00],\n",
              "        [ 7.79887957e+00,  7.48670833e+00],\n",
              "        [ 7.08620455e+00,  9.86149326e+00],\n",
              "        [ 9.48787246e+00,  8.13812461e+00],\n",
              "        [ 9.02146718e+00,  9.97600487e+00],\n",
              "        [ 8.29013372e+00,  9.26212015e+00],\n",
              "        [ 1.11357341e+00, -8.39009603e+00],\n",
              "        [ 9.65043115e+00,  6.86063439e+00],\n",
              "        [ 7.76708357e+00,  9.28319595e+00],\n",
              "        [ 7.68252969e+00,  1.00370168e+01],\n",
              "        [ 7.61278529e+00,  9.86212729e+00],\n",
              "        [ 8.83011576e+00,  7.96538420e+00],\n",
              "        [ 7.80848521e+00,  7.88684002e+00],\n",
              "        [ 7.97339965e+00,  7.77250511e+00],\n",
              "        [ 6.94853304e+00,  7.75883913e+00],\n",
              "        [ 7.16972249e+00,  7.73350672e+00],\n",
              "        [ 6.77495406e-01, -1.01798169e+01],\n",
              "        [ 8.63970115e+00,  8.42671897e+00],\n",
              "        [ 9.40980271e+00,  8.02334706e+00],\n",
              "        [ 1.38633453e+00, -7.76488437e+00],\n",
              "        [ 3.55624469e-01, -8.28024627e+00],\n",
              "        [ 2.58978149e+00, -8.12507428e+00],\n",
              "        [ 8.19831377e+00,  9.10251113e+00],\n",
              "        [ 1.68546728e+00, -9.12707661e+00],\n",
              "        [ 7.96042049e+00,  8.15693121e+00],\n",
              "        [ 1.37717651e+00, -1.02226348e+01],\n",
              "        [ 3.16670962e+00, -8.56917664e+00],\n",
              "        [ 1.49349602e+00, -8.01843007e+00],\n",
              "        [ 7.54030107e+00,  1.00279922e+01],\n",
              "        [ 2.00890845e+00, -9.78471782e+00],\n",
              "        [ 9.13384326e+00,  7.60559588e+00],\n",
              "        [ 7.73247476e+00,  8.50128978e+00],\n",
              "        [ 7.62681124e+00,  8.09665112e+00],\n",
              "        [ 7.16098496e+00,  9.14440512e+00],\n",
              "        [ 6.94626237e+00,  7.17991288e+00],\n",
              "        [ 6.57717974e+00,  9.43383497e+00],\n",
              "        [ 7.66056692e+00,  7.99901838e+00],\n",
              "        [ 9.70020474e+00,  6.81920214e+00],\n",
              "        [ 9.36027145e-01, -8.79109071e+00],\n",
              "        [ 6.48854522e+00,  7.20596865e+00],\n",
              "        [ 7.58757282e+00,  8.28519905e+00],\n",
              "        [ 1.31977821e+00, -7.27106670e+00],\n",
              "        [ 8.41534331e-01, -7.47696900e+00],\n",
              "        [ 8.36572454e+00,  8.73226328e+00],\n",
              "        [ 8.73574800e+00,  9.45197999e+00],\n",
              "        [ 3.47840597e+00, -8.79595054e+00],\n",
              "        [ 9.10159911e+00,  1.01221297e+01],\n",
              "        [ 7.84750524e+00,  7.43284913e+00],\n",
              "        [ 6.36049595e+00,  9.02838335e+00],\n",
              "        [ 6.87744970e+00,  8.95416556e+00]]),\n",
              " array([0, 1, 1, 0, 1, 0, 1, 1, 0, 0, 1, 0, 0, 0, 0, 1, 1, 0, 1, 1, 0, 1,\n",
              "        0, 1, 1, 0, 0, 0, 0, 0, 0, 1, 0, 1, 0, 1, 1, 0, 1, 1, 0, 1, 0, 1,\n",
              "        0, 0, 0, 1, 0, 0, 0, 1, 0, 1, 0, 1, 1, 1, 1, 1, 0, 1, 0, 1, 0, 0,\n",
              "        0, 0, 0, 0, 1, 1, 0, 1, 1, 1, 1, 1, 0, 1, 0, 0, 1, 0, 0, 0, 0, 1,\n",
              "        0, 1, 0, 1, 0, 1, 0, 0, 1, 1, 1, 0, 0, 1, 0, 1, 1, 1, 0, 0, 0, 1,\n",
              "        1, 1, 0, 1, 1, 0, 0, 1, 0, 0, 0, 1, 1, 1, 1, 0, 0, 0, 0, 1, 0, 0,\n",
              "        0, 0, 0, 0, 1, 0, 0, 0, 1, 0, 0, 1, 1, 0, 1, 1, 1, 0, 1, 1, 0, 0,\n",
              "        0, 0, 0, 1, 1, 0, 0, 1, 1, 0, 1, 0, 0, 0, 1, 1, 0, 0, 0, 0, 1, 0,\n",
              "        0, 1, 1, 1, 0, 1, 1, 1, 1, 1, 0, 1, 1, 1, 1, 1, 0, 0, 0, 1, 1, 1,\n",
              "        0, 0, 0, 1, 0, 1, 0, 0, 0, 0, 1, 0, 1, 0, 0, 1, 1, 0, 1, 0, 0, 1,\n",
              "        0, 0, 1, 0, 1, 1, 0, 1, 1, 1, 1, 1, 1, 1, 1, 0, 1, 0, 0, 0, 0, 0,\n",
              "        0, 0, 0, 0, 0, 0, 0, 0, 0, 0, 0, 1, 1, 0, 0, 0, 1, 1, 1, 1, 1, 0,\n",
              "        0, 0, 0, 1, 1, 1, 1, 1, 0, 1, 1, 1, 0, 0, 0, 1, 1, 1, 0, 1, 0, 0,\n",
              "        1, 1, 0, 1, 0, 1, 0, 0, 0, 1, 0, 0, 1, 0, 0, 1, 0, 0, 0, 0, 0, 0,\n",
              "        1, 1, 1, 0, 0, 0, 0, 1, 1, 0, 1, 1, 0, 0, 1, 0, 0, 1, 0, 1, 1, 0,\n",
              "        0, 1, 1, 0, 1, 0, 1, 1, 1, 0, 1, 1, 0, 0, 0, 1, 1, 1, 1, 1, 0, 1,\n",
              "        0, 1, 0, 0, 1, 0, 1, 1, 0, 1, 0, 0, 0, 1, 1, 0, 1, 1, 0, 1, 1, 0,\n",
              "        0, 0, 0, 1, 0, 1, 0, 0, 0, 0, 1, 1, 0, 0, 1, 1, 0, 0, 1, 1, 0, 1,\n",
              "        1, 0, 0, 1, 1, 0, 0, 1, 1, 1, 1, 0, 1, 1, 0, 0, 1, 0, 1, 0, 1, 1,\n",
              "        0, 1, 1, 1, 0, 0, 1, 1, 1, 1, 0, 1, 1, 0, 0, 1, 0, 1, 1, 0, 1, 0,\n",
              "        0, 1, 0, 0, 0, 1, 0, 0, 0, 1, 0, 1, 1, 1, 1, 1, 0, 1, 1, 1, 1, 1,\n",
              "        1, 1, 1, 1, 0, 1, 1, 0, 0, 0, 1, 0, 1, 0, 0, 0, 1, 0, 1, 1, 1, 1,\n",
              "        1, 1, 1, 1, 0, 1, 1, 0, 0, 1, 1, 0, 1, 1, 1, 1]))"
            ]
          },
          "metadata": {
            "tags": []
          },
          "execution_count": 61
        }
      ]
    },
    {
      "cell_type": "code",
      "metadata": {
        "id": "CzYEbfx2aVNC",
        "colab_type": "code",
        "colab": {}
      },
      "source": [
        "features = data[0]\n",
        "labels = data[1]"
      ],
      "execution_count": 0,
      "outputs": []
    },
    {
      "cell_type": "code",
      "metadata": {
        "id": "lq-b6aneaaaF",
        "colab_type": "code",
        "colab": {
          "base_uri": "https://localhost:8080/",
          "height": 286
        },
        "outputId": "176d9717-89f1-442d-fc53-f30638597ecf"
      },
      "source": [
        "plt.scatter(features[:,0], features[:,1],c=labels)"
      ],
      "execution_count": 63,
      "outputs": [
        {
          "output_type": "execute_result",
          "data": {
            "text/plain": [
              "<matplotlib.collections.PathCollection at 0x7fed21ccfac8>"
            ]
          },
          "metadata": {
            "tags": []
          },
          "execution_count": 63
        },
        {
          "output_type": "display_data",
          "data": {
            "image/png": "[encoded data removed]",
            "text/plain": [
              "<Figure size 432x288 with 1 Axes>"
            ]
          },
          "metadata": {
            "tags": []
          }
        }
      ]
    },
    {
      "cell_type": "code",
      "metadata": {
        "id": "b1g0HiMsazKE",
        "colab_type": "code",
        "colab": {
          "base_uri": "https://localhost:8080/",
          "height": 286
        },
        "outputId": "b4cc5bd1-2df2-4e4c-e28c-04c7536e721d"
      },
      "source": [
        "x = np.linspace(-1,11,10)\n",
        "y = -x+5\n",
        "plt.scatter(features[:,0], features[:,1],c=labels)\n",
        "plt.plot(x,y)"
      ],
      "execution_count": 67,
      "outputs": [
        {
          "output_type": "execute_result",
          "data": {
            "text/plain": [
              "[<matplotlib.lines.Line2D at 0x7fed21959fd0>]"
            ]
          },
          "metadata": {
            "tags": []
          },
          "execution_count": 67
        },
        {
          "output_type": "display_data",
          "data": {
            "image/png": "[encoded data removed]",
            "text/plain": [
              "<Figure size 432x288 with 1 Axes>"
            ]
          },
          "metadata": {
            "tags": []
          }
        }
      ]
    },
    {
      "cell_type": "code",
      "metadata": {
        "id": "tW1BwUsFfdG2",
        "colab_type": "code",
        "colab": {
          "base_uri": "https://localhost:8080/",
          "height": 34
        },
        "outputId": "e8b9a09b-5eaf-4456-cbe9-d1875363d461"
      },
      "source": [
        "np.array([1,1]).dot(np.array([[10],[6]]))-5"
      ],
      "execution_count": 68,
      "outputs": [
        {
          "output_type": "execute_result",
          "data": {
            "text/plain": [
              "array([11])"
            ]
          },
          "metadata": {
            "tags": []
          },
          "execution_count": 68
        }
      ]
    },
    {
      "cell_type": "code",
      "metadata": {
        "id": "QmwbBDqifoIq",
        "colab_type": "code",
        "colab": {
          "base_uri": "https://localhost:8080/",
          "height": 34
        },
        "outputId": "edda581a-7204-4da3-f88f-cbd66100ccf6"
      },
      "source": [
        "np.array([1,1]).dot(np.array([[0],[6]]))-5"
      ],
      "execution_count": 69,
      "outputs": [
        {
          "output_type": "execute_result",
          "data": {
            "text/plain": [
              "array([1])"
            ]
          },
          "metadata": {
            "tags": []
          },
          "execution_count": 69
        }
      ]
    }
  ]
}